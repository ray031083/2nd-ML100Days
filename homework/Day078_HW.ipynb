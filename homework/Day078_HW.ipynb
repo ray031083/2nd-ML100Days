{
 "cells": [
  {
   "cell_type": "markdown",
   "metadata": {},
   "source": [
    "## Work\n",
    "1. 請嘗試將 preproc_x 替換成以每筆資料的 min/max 進行標準化至 -1 ~ 1 間，再進行訓練\n",
    "2. 請嘗試將 mlp 疊更深 (e.g 5~10 層)，進行訓練後觀察 learning curve 的走勢\n",
    "3. (optional) 請改用 GPU 進行訓練 (如果你有 GPU 的話)，比較使用 CPU 與 GPU 的訓練速度"
   ]
  },
  {
   "cell_type": "code",
   "execution_count": 1,
   "metadata": {},
   "outputs": [
    {
     "name": "stderr",
     "output_type": "stream",
     "text": [
      "'nvidia-smi' 不是內部或外部命令、可執行的程式或批次檔。\n"
     ]
    }
   ],
   "source": [
    "## \n",
    "\"\"\"\n",
    "Your code here (optional)\n",
    "確認硬體資源\n",
    "\"\"\"\n"
   ]
  },
  {
   "cell_type": "code",
   "execution_count": 1,
   "metadata": {},
   "outputs": [
    {
     "name": "stderr",
     "output_type": "stream",
     "text": [
      "Using TensorFlow backend.\n"
     ]
    }
   ],
   "source": [
    "import os\n",
    "import keras\n",
    "\n",
    "# 請嘗試設定 GPU：os.environ\n",
    "os.environ[\"CUDA_VISIBLE_DEVICES\"] = \"\""
   ]
  },
  {
   "cell_type": "code",
   "execution_count": 2,
   "metadata": {},
   "outputs": [],
   "source": [
    "train, test = keras.datasets.cifar10.load_data()"
   ]
  },
  {
   "cell_type": "code",
   "execution_count": 3,
   "metadata": {},
   "outputs": [],
   "source": [
    "## 資料前處理\n",
    "\n",
    "def preproc_x(x, flatten=True):\n",
    "    a = x.min()\n",
    "    b = x.max()\n",
    "    x = (x - a) / (b - a)\n",
    "    if flatten:\n",
    "        x = x.reshape((len(x), -1))\n",
    "    return x\n",
    "\n",
    "def preproc_y(y, num_classes=10):\n",
    "    if y.shape[-1] == 1:\n",
    "        y = keras.utils.to_categorical(y, num_classes)\n",
    "    return y\n",
    "    "
   ]
  },
  {
   "cell_type": "code",
   "execution_count": 4,
   "metadata": {},
   "outputs": [],
   "source": [
    "x_train, y_train = train\n",
    "x_test, y_test = test\n",
    "\n",
    "# Preproc the inputs\n",
    "x_train = preproc_x(x_train)\n",
    "x_test = preproc_x(x_test)\n",
    "\n",
    "# Preprc the outputs\n",
    "y_train = preproc_y(y_train)\n",
    "y_test = preproc_y(y_test)"
   ]
  },
  {
   "cell_type": "code",
   "execution_count": 6,
   "metadata": {},
   "outputs": [
    {
     "name": "stdout",
     "output_type": "stream",
     "text": [
      "WARNING:tensorflow:From C:\\Users\\rayhuang\\AppData\\Local\\Continuum\\anaconda3\\lib\\site-packages\\tensorflow\\python\\framework\\op_def_library.py:263: colocate_with (from tensorflow.python.framework.ops) is deprecated and will be removed in a future version.\n",
      "Instructions for updating:\n",
      "Colocations handled automatically by placer.\n",
      "_________________________________________________________________\n",
      "Layer (type)                 Output Shape              Param #   \n",
      "=================================================================\n",
      "input_1 (InputLayer)         (None, 3072)              0         \n",
      "_________________________________________________________________\n",
      "hidden_layer1 (Dense)        (None, 512)               1573376   \n",
      "_________________________________________________________________\n",
      "hidden_layer2 (Dense)        (None, 256)               131328    \n",
      "_________________________________________________________________\n",
      "hidden_layer3 (Dense)        (None, 128)               32896     \n",
      "_________________________________________________________________\n",
      "hidden_layer4 (Dense)        (None, 64)                8256      \n",
      "_________________________________________________________________\n",
      "hidden_layer5 (Dense)        (None, 32)                2080      \n",
      "_________________________________________________________________\n",
      "output (Dense)               (None, 10)                330       \n",
      "=================================================================\n",
      "Total params: 1,748,266\n",
      "Trainable params: 1,748,266\n",
      "Non-trainable params: 0\n",
      "_________________________________________________________________\n"
     ]
    }
   ],
   "source": [
    "#建立神經網路\n",
    "\n",
    "def build_mlp(input_shape, output_units=10, num_neurons=[512, 256, 128, 64, 32]):\n",
    "    input_layer = keras.layers.Input(input_shape)\n",
    "    \n",
    "    for i, n_units in enumerate(num_neurons):\n",
    "        if i == 0:\n",
    "            x = keras.layers.Dense(units=n_units, activation=\"relu\", name=\"hidden_layer\"+str(i+1))(input_layer)\n",
    "        else:\n",
    "            x = keras.layers.Dense(units=n_units, activation=\"relu\", name=\"hidden_layer\"+str(i+1))(x)\n",
    "    \n",
    "    out = keras.layers.Dense(units=output_units, activation=\"softmax\", name=\"output\")(x)\n",
    "    \n",
    "    model = keras.models.Model(inputs=[input_layer], outputs=[out])\n",
    "    \n",
    "    return model\n",
    "model = build_mlp(input_shape=x_train.shape[1:])\n",
    "model.summary()"
   ]
  },
  {
   "cell_type": "code",
   "execution_count": 7,
   "metadata": {},
   "outputs": [],
   "source": [
    "## 超參數設定\n",
    "LEARNING_RATE = 0.001\n",
    "EPOCHS = 100\n",
    "BATCH_SIZE = 256"
   ]
  },
  {
   "cell_type": "code",
   "execution_count": 8,
   "metadata": {},
   "outputs": [],
   "source": [
    "optimizer = keras.optimizers.Adam(lr=LEARNING_RATE)\n",
    "model.compile(loss=\"categorical_crossentropy\", metrics=[\"accuracy\"], optimizer=optimizer)"
   ]
  },
  {
   "cell_type": "code",
   "execution_count": 9,
   "metadata": {},
   "outputs": [
    {
     "name": "stdout",
     "output_type": "stream",
     "text": [
      "WARNING:tensorflow:From C:\\Users\\rayhuang\\AppData\\Local\\Continuum\\anaconda3\\lib\\site-packages\\tensorflow\\python\\ops\\math_ops.py:3066: to_int32 (from tensorflow.python.ops.math_ops) is deprecated and will be removed in a future version.\n",
      "Instructions for updating:\n",
      "Use tf.cast instead.\n",
      "Train on 50000 samples, validate on 10000 samples\n",
      "Epoch 1/100\n",
      "50000/50000 [==============================] - 19s 388us/step - loss: 2.0085 - acc: 0.2595 - val_loss: 1.8283 - val_acc: 0.3480\n",
      "Epoch 2/100\n",
      "50000/50000 [==============================] - 14s 278us/step - loss: 1.7733 - acc: 0.3606 - val_loss: 1.6964 - val_acc: 0.3927\n",
      "Epoch 3/100\n",
      "50000/50000 [==============================] - 14s 273us/step - loss: 1.6743 - acc: 0.3996 - val_loss: 1.6589 - val_acc: 0.4091\n",
      "Epoch 4/100\n",
      "50000/50000 [==============================] - 14s 274us/step - loss: 1.6081 - acc: 0.4263 - val_loss: 1.5709 - val_acc: 0.4388\n",
      "Epoch 5/100\n",
      "50000/50000 [==============================] - 14s 272us/step - loss: 1.5488 - acc: 0.4454 - val_loss: 1.5625 - val_acc: 0.4358\n",
      "Epoch 6/100\n",
      "50000/50000 [==============================] - 13s 269us/step - loss: 1.5015 - acc: 0.4638 - val_loss: 1.5149 - val_acc: 0.4515\n",
      "Epoch 7/100\n",
      "50000/50000 [==============================] - 13s 268us/step - loss: 1.4625 - acc: 0.4782 - val_loss: 1.5133 - val_acc: 0.4609\n",
      "Epoch 8/100\n",
      "50000/50000 [==============================] - 13s 269us/step - loss: 1.4416 - acc: 0.4851 - val_loss: 1.4944 - val_acc: 0.4719\n",
      "Epoch 9/100\n",
      "50000/50000 [==============================] - 14s 271us/step - loss: 1.4048 - acc: 0.5002 - val_loss: 1.4636 - val_acc: 0.4829\n",
      "Epoch 10/100\n",
      "50000/50000 [==============================] - 13s 268us/step - loss: 1.3793 - acc: 0.5082 - val_loss: 1.4255 - val_acc: 0.4938\n",
      "Epoch 11/100\n",
      "50000/50000 [==============================] - 13s 267us/step - loss: 1.3669 - acc: 0.5122 - val_loss: 1.4410 - val_acc: 0.4912\n",
      "Epoch 12/100\n",
      "50000/50000 [==============================] - 13s 267us/step - loss: 1.3424 - acc: 0.5202 - val_loss: 1.4066 - val_acc: 0.5097\n",
      "Epoch 13/100\n",
      "50000/50000 [==============================] - 14s 270us/step - loss: 1.3186 - acc: 0.5305 - val_loss: 1.4339 - val_acc: 0.4950\n",
      "Epoch 14/100\n",
      "50000/50000 [==============================] - 13s 266us/step - loss: 1.2854 - acc: 0.5427 - val_loss: 1.4180 - val_acc: 0.4978\n",
      "Epoch 15/100\n",
      "50000/50000 [==============================] - 13s 267us/step - loss: 1.2718 - acc: 0.5459 - val_loss: 1.4435 - val_acc: 0.4900\n",
      "Epoch 16/100\n",
      "50000/50000 [==============================] - 13s 266us/step - loss: 1.2573 - acc: 0.5510 - val_loss: 1.4405 - val_acc: 0.4983\n",
      "Epoch 17/100\n",
      "50000/50000 [==============================] - 13s 268us/step - loss: 1.2295 - acc: 0.5632 - val_loss: 1.4122 - val_acc: 0.5070\n",
      "Epoch 18/100\n",
      "50000/50000 [==============================] - 13s 270us/step - loss: 1.2134 - acc: 0.5669 - val_loss: 1.3901 - val_acc: 0.5140\n",
      "Epoch 19/100\n",
      "50000/50000 [==============================] - 13s 268us/step - loss: 1.1889 - acc: 0.5767 - val_loss: 1.3898 - val_acc: 0.5165\n",
      "Epoch 20/100\n",
      "50000/50000 [==============================] - 13s 268us/step - loss: 1.1748 - acc: 0.5783 - val_loss: 1.4037 - val_acc: 0.5085\n",
      "Epoch 21/100\n",
      "50000/50000 [==============================] - 14s 279us/step - loss: 1.1434 - acc: 0.5939 - val_loss: 1.4155 - val_acc: 0.5115\n",
      "Epoch 22/100\n",
      "50000/50000 [==============================] - 15s 298us/step - loss: 1.1341 - acc: 0.5960 - val_loss: 1.3939 - val_acc: 0.5183\n",
      "Epoch 23/100\n",
      "50000/50000 [==============================] - 15s 299us/step - loss: 1.1160 - acc: 0.6007 - val_loss: 1.4277 - val_acc: 0.5123\n",
      "Epoch 24/100\n",
      "50000/50000 [==============================] - 15s 292us/step - loss: 1.0984 - acc: 0.6078 - val_loss: 1.4332 - val_acc: 0.5067\n",
      "Epoch 25/100\n",
      "50000/50000 [==============================] - 14s 283us/step - loss: 1.0781 - acc: 0.6168 - val_loss: 1.4091 - val_acc: 0.5148\n",
      "Epoch 26/100\n",
      "50000/50000 [==============================] - 14s 289us/step - loss: 1.0561 - acc: 0.6232 - val_loss: 1.4169 - val_acc: 0.5185\n",
      "Epoch 27/100\n",
      "50000/50000 [==============================] - 14s 275us/step - loss: 1.0431 - acc: 0.6271 - val_loss: 1.4275 - val_acc: 0.5246\n",
      "Epoch 28/100\n",
      "50000/50000 [==============================] - 14s 282us/step - loss: 1.0252 - acc: 0.6348 - val_loss: 1.4282 - val_acc: 0.5274\n",
      "Epoch 29/100\n",
      "50000/50000 [==============================] - 14s 274us/step - loss: 1.0073 - acc: 0.6411 - val_loss: 1.4313 - val_acc: 0.5265\n",
      "Epoch 30/100\n",
      "50000/50000 [==============================] - 14s 288us/step - loss: 0.9896 - acc: 0.6457 - val_loss: 1.4387 - val_acc: 0.5272\n",
      "Epoch 31/100\n",
      "50000/50000 [==============================] - 14s 281us/step - loss: 0.9776 - acc: 0.6504 - val_loss: 1.4301 - val_acc: 0.5238\n",
      "Epoch 32/100\n",
      "50000/50000 [==============================] - 14s 273us/step - loss: 0.9573 - acc: 0.6595 - val_loss: 1.4402 - val_acc: 0.5260\n",
      "Epoch 33/100\n",
      "50000/50000 [==============================] - 14s 282us/step - loss: 0.9410 - acc: 0.6634 - val_loss: 1.4489 - val_acc: 0.5313\n",
      "Epoch 34/100\n",
      "50000/50000 [==============================] - 13s 267us/step - loss: 0.9190 - acc: 0.6726 - val_loss: 1.5001 - val_acc: 0.5071\n",
      "Epoch 35/100\n",
      "50000/50000 [==============================] - 13s 266us/step - loss: 0.9094 - acc: 0.6762 - val_loss: 1.4753 - val_acc: 0.5271\n",
      "Epoch 36/100\n",
      "50000/50000 [==============================] - 13s 254us/step - loss: 0.9001 - acc: 0.6775 - val_loss: 1.4760 - val_acc: 0.5313\n",
      "Epoch 37/100\n",
      "50000/50000 [==============================] - 13s 260us/step - loss: 0.8734 - acc: 0.6880 - val_loss: 1.5149 - val_acc: 0.5142\n",
      "Epoch 38/100\n",
      "50000/50000 [==============================] - 13s 257us/step - loss: 0.8630 - acc: 0.6912 - val_loss: 1.5196 - val_acc: 0.5245\n",
      "Epoch 39/100\n",
      "50000/50000 [==============================] - 13s 257us/step - loss: 0.8339 - acc: 0.6995 - val_loss: 1.5252 - val_acc: 0.5257\n",
      "Epoch 40/100\n",
      "50000/50000 [==============================] - 14s 276us/step - loss: 0.8334 - acc: 0.7035 - val_loss: 1.5645 - val_acc: 0.5216\n",
      "Epoch 41/100\n",
      "50000/50000 [==============================] - 14s 282us/step - loss: 0.8151 - acc: 0.7086 - val_loss: 1.5904 - val_acc: 0.5168\n",
      "Epoch 42/100\n",
      "50000/50000 [==============================] - 14s 290us/step - loss: 0.8054 - acc: 0.7127 - val_loss: 1.5867 - val_acc: 0.5157\n",
      "Epoch 43/100\n",
      "50000/50000 [==============================] - 14s 271us/step - loss: 0.7778 - acc: 0.7210 - val_loss: 1.6052 - val_acc: 0.5235\n",
      "Epoch 44/100\n",
      "50000/50000 [==============================] - 14s 289us/step - loss: 0.7692 - acc: 0.7283 - val_loss: 1.6162 - val_acc: 0.5213\n",
      "Epoch 45/100\n",
      "50000/50000 [==============================] - 15s 306us/step - loss: 0.7603 - acc: 0.7296 - val_loss: 1.6521 - val_acc: 0.5274\n",
      "Epoch 46/100\n",
      "50000/50000 [==============================] - 15s 301us/step - loss: 0.7384 - acc: 0.7353 - val_loss: 1.6839 - val_acc: 0.5161\n",
      "Epoch 47/100\n",
      "50000/50000 [==============================] - 15s 297us/step - loss: 0.7299 - acc: 0.7403 - val_loss: 1.6839 - val_acc: 0.5148\n",
      "Epoch 48/100\n",
      "50000/50000 [==============================] - 15s 309us/step - loss: 0.7270 - acc: 0.7397 - val_loss: 1.7176 - val_acc: 0.5157\n",
      "Epoch 49/100\n",
      "50000/50000 [==============================] - 14s 272us/step - loss: 0.7036 - acc: 0.7483 - val_loss: 1.7559 - val_acc: 0.5155\n",
      "Epoch 50/100\n",
      "50000/50000 [==============================] - 13s 259us/step - loss: 0.6951 - acc: 0.7538 - val_loss: 1.7985 - val_acc: 0.5120\n",
      "Epoch 51/100\n",
      "50000/50000 [==============================] - 14s 276us/step - loss: 0.6732 - acc: 0.7585 - val_loss: 1.7878 - val_acc: 0.5153\n",
      "Epoch 52/100\n",
      "50000/50000 [==============================] - 13s 260us/step - loss: 0.6609 - acc: 0.7643 - val_loss: 1.8502 - val_acc: 0.5136\n",
      "Epoch 53/100\n",
      "50000/50000 [==============================] - 13s 255us/step - loss: 0.6525 - acc: 0.7652 - val_loss: 1.8063 - val_acc: 0.5139\n",
      "Epoch 54/100\n",
      "50000/50000 [==============================] - 13s 258us/step - loss: 0.6528 - acc: 0.7652 - val_loss: 1.8529 - val_acc: 0.5228\n",
      "Epoch 55/100\n",
      "50000/50000 [==============================] - 13s 252us/step - loss: 0.6404 - acc: 0.7689 - val_loss: 1.8779 - val_acc: 0.5138\n",
      "Epoch 56/100\n",
      "50000/50000 [==============================] - 13s 252us/step - loss: 0.6125 - acc: 0.7802 - val_loss: 1.9673 - val_acc: 0.5071\n"
     ]
    },
    {
     "name": "stdout",
     "output_type": "stream",
     "text": [
      "Epoch 57/100\n",
      "50000/50000 [==============================] - 13s 261us/step - loss: 0.6112 - acc: 0.7815 - val_loss: 1.9170 - val_acc: 0.5133\n",
      "Epoch 58/100\n",
      "50000/50000 [==============================] - 13s 257us/step - loss: 0.6031 - acc: 0.7825 - val_loss: 1.9799 - val_acc: 0.5078\n",
      "Epoch 59/100\n",
      "50000/50000 [==============================] - 14s 272us/step - loss: 0.5970 - acc: 0.7871 - val_loss: 1.9823 - val_acc: 0.5122\n",
      "Epoch 60/100\n",
      "50000/50000 [==============================] - 13s 256us/step - loss: 0.5794 - acc: 0.7934 - val_loss: 2.0014 - val_acc: 0.5114\n",
      "Epoch 61/100\n",
      "50000/50000 [==============================] - 14s 273us/step - loss: 0.5994 - acc: 0.7830 - val_loss: 1.9999 - val_acc: 0.5154\n",
      "Epoch 62/100\n",
      "50000/50000 [==============================] - 14s 286us/step - loss: 0.5515 - acc: 0.8018 - val_loss: 2.0461 - val_acc: 0.5160\n",
      "Epoch 63/100\n",
      "50000/50000 [==============================] - 14s 273us/step - loss: 0.5609 - acc: 0.7971 - val_loss: 2.1548 - val_acc: 0.4994\n",
      "Epoch 64/100\n",
      "50000/50000 [==============================] - 15s 297us/step - loss: 0.5467 - acc: 0.8050 - val_loss: 2.1373 - val_acc: 0.5080\n",
      "Epoch 65/100\n",
      "50000/50000 [==============================] - 15s 307us/step - loss: 0.5317 - acc: 0.8091 - val_loss: 2.1006 - val_acc: 0.5142\n",
      "Epoch 66/100\n",
      "50000/50000 [==============================] - 13s 262us/step - loss: 0.5162 - acc: 0.8143 - val_loss: 2.1710 - val_acc: 0.5088\n",
      "Epoch 67/100\n",
      "50000/50000 [==============================] - 13s 258us/step - loss: 0.5233 - acc: 0.8130 - val_loss: 2.1871 - val_acc: 0.5084\n",
      "Epoch 68/100\n",
      "50000/50000 [==============================] - 14s 277us/step - loss: 0.5051 - acc: 0.8203 - val_loss: 2.2161 - val_acc: 0.5133\n",
      "Epoch 69/100\n",
      "50000/50000 [==============================] - 14s 274us/step - loss: 0.5009 - acc: 0.8224 - val_loss: 2.2102 - val_acc: 0.5046\n",
      "Epoch 70/100\n",
      "50000/50000 [==============================] - 13s 267us/step - loss: 0.5126 - acc: 0.8163 - val_loss: 2.2341 - val_acc: 0.5038\n",
      "Epoch 71/100\n",
      "50000/50000 [==============================] - 13s 253us/step - loss: 0.4888 - acc: 0.8237 - val_loss: 2.3254 - val_acc: 0.5014\n",
      "Epoch 72/100\n",
      "50000/50000 [==============================] - 13s 265us/step - loss: 0.4828 - acc: 0.8262 - val_loss: 2.2913 - val_acc: 0.5145\n",
      "Epoch 73/100\n",
      "50000/50000 [==============================] - 14s 283us/step - loss: 0.4795 - acc: 0.8284 - val_loss: 2.2953 - val_acc: 0.5034\n",
      "Epoch 74/100\n",
      "50000/50000 [==============================] - 14s 279us/step - loss: 0.4591 - acc: 0.8348 - val_loss: 2.3474 - val_acc: 0.4984\n",
      "Epoch 75/100\n",
      "50000/50000 [==============================] - 14s 274us/step - loss: 0.4614 - acc: 0.8357 - val_loss: 2.4284 - val_acc: 0.5029\n",
      "Epoch 76/100\n",
      "50000/50000 [==============================] - 14s 274us/step - loss: 0.4667 - acc: 0.8317 - val_loss: 2.4288 - val_acc: 0.5047\n",
      "Epoch 77/100\n",
      "50000/50000 [==============================] - 14s 273us/step - loss: 0.4422 - acc: 0.8409 - val_loss: 2.3664 - val_acc: 0.5108\n",
      "Epoch 78/100\n",
      "50000/50000 [==============================] - 14s 274us/step - loss: 0.4343 - acc: 0.8425 - val_loss: 2.4606 - val_acc: 0.5040\n",
      "Epoch 79/100\n",
      "50000/50000 [==============================] - 14s 278us/step - loss: 0.4331 - acc: 0.8453 - val_loss: 2.4678 - val_acc: 0.5007\n",
      "Epoch 80/100\n",
      "50000/50000 [==============================] - 14s 275us/step - loss: 0.4348 - acc: 0.8425 - val_loss: 2.5006 - val_acc: 0.5000\n",
      "Epoch 81/100\n",
      "50000/50000 [==============================] - 14s 273us/step - loss: 0.4013 - acc: 0.8574 - val_loss: 2.5744 - val_acc: 0.5032\n",
      "Epoch 82/100\n",
      "50000/50000 [==============================] - 14s 274us/step - loss: 0.4281 - acc: 0.8457 - val_loss: 2.5840 - val_acc: 0.5016\n",
      "Epoch 83/100\n",
      "50000/50000 [==============================] - 14s 278us/step - loss: 0.4160 - acc: 0.8511 - val_loss: 2.5528 - val_acc: 0.5011\n",
      "Epoch 84/100\n",
      "50000/50000 [==============================] - 14s 275us/step - loss: 0.4108 - acc: 0.8527 - val_loss: 2.5832 - val_acc: 0.4996\n",
      "Epoch 85/100\n",
      "50000/50000 [==============================] - 14s 275us/step - loss: 0.4110 - acc: 0.8511 - val_loss: 2.6139 - val_acc: 0.5042\n",
      "Epoch 86/100\n",
      "50000/50000 [==============================] - 14s 276us/step - loss: 0.3944 - acc: 0.8576 - val_loss: 2.6726 - val_acc: 0.5091\n",
      "Epoch 87/100\n",
      "50000/50000 [==============================] - 14s 283us/step - loss: 0.4000 - acc: 0.8549 - val_loss: 2.5727 - val_acc: 0.5037\n",
      "Epoch 88/100\n",
      "50000/50000 [==============================] - 14s 278us/step - loss: 0.3879 - acc: 0.8593 - val_loss: 2.6450 - val_acc: 0.5072\n",
      "Epoch 89/100\n",
      "50000/50000 [==============================] - 14s 279us/step - loss: 0.3699 - acc: 0.8690 - val_loss: 2.6497 - val_acc: 0.5021\n",
      "Epoch 90/100\n",
      "50000/50000 [==============================] - 14s 281us/step - loss: 0.3796 - acc: 0.8642 - val_loss: 2.6487 - val_acc: 0.5018\n",
      "Epoch 91/100\n",
      "50000/50000 [==============================] - 14s 279us/step - loss: 0.3543 - acc: 0.8729 - val_loss: 2.7823 - val_acc: 0.4983\n",
      "Epoch 92/100\n",
      "50000/50000 [==============================] - 16s 312us/step - loss: 0.3753 - acc: 0.8644 - val_loss: 2.8403 - val_acc: 0.4964\n",
      "Epoch 93/100\n",
      "50000/50000 [==============================] - 16s 325us/step - loss: 0.3887 - acc: 0.8603 - val_loss: 2.7768 - val_acc: 0.4939\n",
      "Epoch 94/100\n",
      "50000/50000 [==============================] - 15s 290us/step - loss: 0.3483 - acc: 0.8769 - val_loss: 2.7798 - val_acc: 0.5097\n",
      "Epoch 95/100\n",
      "50000/50000 [==============================] - 14s 282us/step - loss: 0.3396 - acc: 0.8777 - val_loss: 2.8287 - val_acc: 0.4985\n",
      "Epoch 96/100\n",
      "50000/50000 [==============================] - 14s 281us/step - loss: 0.3545 - acc: 0.8730 - val_loss: 2.8597 - val_acc: 0.4960\n",
      "Epoch 97/100\n",
      "50000/50000 [==============================] - 14s 280us/step - loss: 0.3621 - acc: 0.8704 - val_loss: 2.8658 - val_acc: 0.4932\n",
      "Epoch 98/100\n",
      "50000/50000 [==============================] - 14s 281us/step - loss: 0.3719 - acc: 0.8647 - val_loss: 2.8148 - val_acc: 0.5028\n",
      "Epoch 99/100\n",
      "50000/50000 [==============================] - 14s 279us/step - loss: 0.3300 - acc: 0.8819 - val_loss: 2.9916 - val_acc: 0.5025\n",
      "Epoch 100/100\n",
      "50000/50000 [==============================] - 14s 283us/step - loss: 0.3480 - acc: 0.8744 - val_loss: 2.8812 - val_acc: 0.5002\n"
     ]
    },
    {
     "data": {
      "text/plain": [
       "<keras.callbacks.History at 0x26108bb7eb8>"
      ]
     },
     "execution_count": 9,
     "metadata": {},
     "output_type": "execute_result"
    }
   ],
   "source": [
    "model.fit(x_train, y_train, \n",
    "          epochs=EPOCHS, \n",
    "          batch_size=BATCH_SIZE, \n",
    "          validation_data=(x_test, y_test), \n",
    "          shuffle=True)"
   ]
  },
  {
   "cell_type": "code",
   "execution_count": 11,
   "metadata": {},
   "outputs": [
    {
     "data": {
      "image/png": "[encoded data removed]",
      "text/plain": [
       "<Figure size 432x288 with 1 Axes>"
      ]
     },
     "metadata": {
      "needs_background": "light"
     },
     "output_type": "display_data"
    },
    {
     "data": {
      "image/png": "[encoded data removed]",
      "text/plain": [
       "<Figure size 432x288 with 1 Axes>"
      ]
     },
     "metadata": {
      "needs_background": "light"
     },
     "output_type": "display_data"
    }
   ],
   "source": [
    "import matplotlib.pyplot as plt\n",
    "\n",
    "\n",
    "train_loss = model.history.history[\"loss\"]\n",
    "valid_loss = model.history.history[\"val_loss\"]\n",
    "\n",
    "train_acc = model.history.history[\"acc\"]\n",
    "valid_acc = model.history.history[\"val_acc\"]\n",
    "\n",
    "plt.plot(range(len(train_loss)), train_loss, label=\"train loss\")\n",
    "plt.plot(range(len(valid_loss)), valid_loss, label=\"valid loss\")\n",
    "plt.legend()\n",
    "plt.title(\"Loss\")\n",
    "plt.show()\n",
    "\n",
    "plt.plot(range(len(train_acc)), train_acc, label=\"train accuracy\")\n",
    "plt.plot(range(len(valid_acc)), valid_acc, label=\"valid accuracy\")\n",
    "plt.legend()\n",
    "plt.title(\"Accuracy\")\n",
    "plt.show()"
   ]
  },
  {
   "cell_type": "code",
   "execution_count": null,
   "metadata": {},
   "outputs": [],
   "source": []
  }
 ],
 "metadata": {
  "@webio": {
   "lastCommId": null,
   "lastKernelId": null
  },
  "kernelspec": {
   "display_name": "Python 3",
   "language": "python",
   "name": "python3"
  },
  "language_info": {
   "codemirror_mode": {
    "name": "ipython",
    "version": 3
   },
   "file_extension": ".py",
   "mimetype": "text/x-python",
   "name": "python",
   "nbconvert_exporter": "python",
   "pygments_lexer": "ipython3",
   "version": "3.7.3"
  }
 },
 "nbformat": 4,
 "nbformat_minor": 2
}
