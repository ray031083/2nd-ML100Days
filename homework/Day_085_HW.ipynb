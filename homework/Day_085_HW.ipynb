{
 "cells": [
  {
   "cell_type": "markdown",
   "metadata": {},
   "source": [
    "## Work\n",
    "1. 試改變 monitor \"Validation Accuracy\" 並比較結果\n",
    "2. 調整 earlystop 的等待次數至 10, 25 並比較結果"
   ]
  },
  {
   "cell_type": "code",
   "execution_count": 1,
   "metadata": {},
   "outputs": [
    {
     "name": "stderr",
     "output_type": "stream",
     "text": [
      "Using TensorFlow backend.\n"
     ]
    }
   ],
   "source": [
    "import os\n",
    "import keras\n",
    "import matplotlib.pyplot as plt\n",
    "%matplotlib inline\n",
    "\n",
    "\n",
    "# Disable GPU\n",
    "os.environ[\"CUDA_VISIBLE_DEVICES\"] = \"\""
   ]
  },
  {
   "cell_type": "code",
   "execution_count": 2,
   "metadata": {},
   "outputs": [],
   "source": [
    "train, test = keras.datasets.cifar10.load_data()"
   ]
  },
  {
   "cell_type": "code",
   "execution_count": 3,
   "metadata": {},
   "outputs": [],
   "source": [
    "## 資料前處理\n",
    "def preproc_x(x, flatten=True):\n",
    "    x = x / 255.\n",
    "    if flatten:\n",
    "        x = x.reshape((len(x), -1))\n",
    "    return x\n",
    "\n",
    "def preproc_y(y, num_classes=10):\n",
    "    if y.shape[-1] == 1:\n",
    "        y = keras.utils.to_categorical(y, num_classes)\n",
    "    return y    "
   ]
  },
  {
   "cell_type": "code",
   "execution_count": 4,
   "metadata": {},
   "outputs": [],
   "source": [
    "x_train, y_train = train\n",
    "x_test, y_test = test\n",
    "\n",
    "# Preproc the inputs\n",
    "x_train = preproc_x(x_train)\n",
    "x_test = preproc_x(x_test)\n",
    "\n",
    "# Preprc the outputs\n",
    "y_train = preproc_y(y_train)\n",
    "y_test = preproc_y(y_test)"
   ]
  },
  {
   "cell_type": "code",
   "execution_count": 5,
   "metadata": {},
   "outputs": [],
   "source": [
    "from keras.layers import BatchNormalization\n",
    "\n",
    "def build_mlp(input_shape, output_units=10, num_neurons=[512, 256, 128]):\n",
    "    \n",
    "    #建立神經網路\n",
    "    input_layer = keras.layers.Input(input_shape)\n",
    "    \n",
    "    for i, n_units in enumerate(num_neurons):\n",
    "        if i == 0:\n",
    "            x = keras.layers.Dense(units=n_units,\n",
    "                                   activation=\"relu\", \n",
    "                                   name=\"hidden_layer\"+str(i+1))(input_layer)\n",
    "            x = BatchNormalization()(x)\n",
    "        else:\n",
    "            x = keras.layers.Dense(units=n_units,\n",
    "                                   activation=\"relu\", \n",
    "                                   name=\"hidden_layer\"+str(i+1))(x)\n",
    "            x = BatchNormalization()(x)\n",
    "    out = keras.layers.Dense(units=output_units, activation=\"softmax\", name=\"output\")(x)\n",
    "    \n",
    "    model = keras.models.Model(inputs=[input_layer], outputs=[out])\n",
    "    \n",
    "    return model"
   ]
  },
  {
   "cell_type": "code",
   "execution_count": 6,
   "metadata": {},
   "outputs": [],
   "source": [
    "#設定超參數\n",
    "LEARNING_RATE = 1e-3\n",
    "EPOCHS = 50\n",
    "BATCH_SIZE = 1024\n",
    "MOMENTUM = 0.95\n"
   ]
  },
  {
   "cell_type": "code",
   "execution_count": 7,
   "metadata": {},
   "outputs": [
    {
     "name": "stdout",
     "output_type": "stream",
     "text": [
      "WARNING:tensorflow:From C:\\Users\\rayhuang\\AppData\\Local\\Continuum\\anaconda3\\lib\\site-packages\\tensorflow\\python\\framework\\op_def_library.py:263: colocate_with (from tensorflow.python.framework.ops) is deprecated and will be removed in a future version.\n",
      "Instructions for updating:\n",
      "Colocations handled automatically by placer.\n",
      "_________________________________________________________________\n",
      "Layer (type)                 Output Shape              Param #   \n",
      "=================================================================\n",
      "input_1 (InputLayer)         (None, 3072)              0         \n",
      "_________________________________________________________________\n",
      "hidden_layer1 (Dense)        (None, 512)               1573376   \n",
      "_________________________________________________________________\n",
      "batch_normalization_1 (Batch (None, 512)               2048      \n",
      "_________________________________________________________________\n",
      "hidden_layer2 (Dense)        (None, 256)               131328    \n",
      "_________________________________________________________________\n",
      "batch_normalization_2 (Batch (None, 256)               1024      \n",
      "_________________________________________________________________\n",
      "hidden_layer3 (Dense)        (None, 128)               32896     \n",
      "_________________________________________________________________\n",
      "batch_normalization_3 (Batch (None, 128)               512       \n",
      "_________________________________________________________________\n",
      "output (Dense)               (None, 10)                1290      \n",
      "=================================================================\n",
      "Total params: 1,742,474\n",
      "Trainable params: 1,740,682\n",
      "Non-trainable params: 1,792\n",
      "_________________________________________________________________\n",
      "WARNING:tensorflow:From C:\\Users\\rayhuang\\AppData\\Local\\Continuum\\anaconda3\\lib\\site-packages\\tensorflow\\python\\ops\\math_ops.py:3066: to_int32 (from tensorflow.python.ops.math_ops) is deprecated and will be removed in a future version.\n",
      "Instructions for updating:\n",
      "Use tf.cast instead.\n",
      "Train on 50000 samples, validate on 10000 samples\n",
      "Epoch 1/50\n",
      "50000/50000 [==============================] - 16s 325us/step - loss: 2.2130 - acc: 0.2701 - val_loss: 2.0494 - val_acc: 0.3220\n",
      "Epoch 2/50\n",
      "50000/50000 [==============================] - 10s 209us/step - loss: 1.7409 - acc: 0.3947 - val_loss: 1.7886 - val_acc: 0.3882\n",
      "Epoch 3/50\n",
      "50000/50000 [==============================] - 10s 203us/step - loss: 1.6121 - acc: 0.4335 - val_loss: 1.7160 - val_acc: 0.3984\n",
      "Epoch 4/50\n",
      "50000/50000 [==============================] - 11s 222us/step - loss: 1.5406 - acc: 0.4609 - val_loss: 1.6354 - val_acc: 0.4229\n",
      "Epoch 5/50\n",
      "50000/50000 [==============================] - 11s 217us/step - loss: 1.4846 - acc: 0.4808 - val_loss: 1.5929 - val_acc: 0.4369\n",
      "Epoch 6/50\n",
      "50000/50000 [==============================] - 10s 205us/step - loss: 1.4392 - acc: 0.4961 - val_loss: 1.5702 - val_acc: 0.4464\n",
      "Epoch 7/50\n",
      "50000/50000 [==============================] - 11s 211us/step - loss: 1.4006 - acc: 0.5105 - val_loss: 1.5526 - val_acc: 0.4520\n",
      "Epoch 8/50\n",
      "50000/50000 [==============================] - 11s 214us/step - loss: 1.3674 - acc: 0.5228 - val_loss: 1.5306 - val_acc: 0.4590\n",
      "Epoch 9/50\n",
      "50000/50000 [==============================] - 11s 214us/step - loss: 1.3355 - acc: 0.5340 - val_loss: 1.5180 - val_acc: 0.4659\n",
      "Epoch 10/50\n",
      "50000/50000 [==============================] - 10s 208us/step - loss: 1.3052 - acc: 0.5463 - val_loss: 1.5023 - val_acc: 0.4695\n",
      "Epoch 11/50\n",
      "50000/50000 [==============================] - 10s 209us/step - loss: 1.2770 - acc: 0.5564 - val_loss: 1.4940 - val_acc: 0.4740\n",
      "Epoch 12/50\n",
      "50000/50000 [==============================] - 10s 204us/step - loss: 1.2489 - acc: 0.5666 - val_loss: 1.4933 - val_acc: 0.4769\n",
      "Epoch 13/50\n",
      "50000/50000 [==============================] - 11s 212us/step - loss: 1.2257 - acc: 0.5746 - val_loss: 1.4718 - val_acc: 0.4850\n",
      "Epoch 14/50\n",
      "50000/50000 [==============================] - 10s 205us/step - loss: 1.2004 - acc: 0.5840 - val_loss: 1.4777 - val_acc: 0.4794\n",
      "Epoch 15/50\n",
      "50000/50000 [==============================] - 10s 206us/step - loss: 1.1784 - acc: 0.5934 - val_loss: 1.4724 - val_acc: 0.4795\n",
      "Epoch 16/50\n",
      "50000/50000 [==============================] - 10s 206us/step - loss: 1.1540 - acc: 0.6020 - val_loss: 1.4579 - val_acc: 0.4882\n",
      "Epoch 17/50\n",
      "50000/50000 [==============================] - 10s 205us/step - loss: 1.1310 - acc: 0.6108 - val_loss: 1.4605 - val_acc: 0.4885\n",
      "Epoch 18/50\n",
      "50000/50000 [==============================] - 10s 205us/step - loss: 1.1103 - acc: 0.6183 - val_loss: 1.4519 - val_acc: 0.4894\n",
      "Epoch 19/50\n",
      "50000/50000 [==============================] - 10s 209us/step - loss: 1.0872 - acc: 0.6265 - val_loss: 1.4664 - val_acc: 0.4899\n",
      "Epoch 20/50\n",
      "50000/50000 [==============================] - 10s 207us/step - loss: 1.0660 - acc: 0.6359 - val_loss: 1.4580 - val_acc: 0.4930\n",
      "Epoch 21/50\n",
      "50000/50000 [==============================] - 10s 204us/step - loss: 1.0463 - acc: 0.6418 - val_loss: 1.4541 - val_acc: 0.4943\n",
      "Epoch 22/50\n",
      "50000/50000 [==============================] - 11s 211us/step - loss: 1.0241 - acc: 0.6509 - val_loss: 1.4625 - val_acc: 0.4920\n",
      "Epoch 23/50\n",
      "50000/50000 [==============================] - 11s 210us/step - loss: 1.0025 - acc: 0.6600 - val_loss: 1.4549 - val_acc: 0.4928\n",
      "Epoch 24/50\n",
      "50000/50000 [==============================] - 12s 231us/step - loss: 0.9822 - acc: 0.6674 - val_loss: 1.4637 - val_acc: 0.4906\n",
      "Epoch 25/50\n",
      "50000/50000 [==============================] - 12s 236us/step - loss: 0.9633 - acc: 0.6755 - val_loss: 1.4622 - val_acc: 0.4932\n",
      "Epoch 26/50\n",
      "50000/50000 [==============================] - 12s 248us/step - loss: 0.9409 - acc: 0.6838 - val_loss: 1.4656 - val_acc: 0.4957\n",
      "Epoch 27/50\n",
      "50000/50000 [==============================] - 12s 235us/step - loss: 0.9242 - acc: 0.6909 - val_loss: 1.4823 - val_acc: 0.4901\n",
      "Epoch 28/50\n",
      "50000/50000 [==============================] - 12s 242us/step - loss: 0.9030 - acc: 0.7002 - val_loss: 1.4549 - val_acc: 0.5033\n",
      "Epoch 29/50\n",
      "50000/50000 [==============================] - 11s 223us/step - loss: 0.8831 - acc: 0.7076 - val_loss: 1.4721 - val_acc: 0.5010\n",
      "Epoch 30/50\n",
      "50000/50000 [==============================] - 12s 236us/step - loss: 0.8635 - acc: 0.7147 - val_loss: 1.4956 - val_acc: 0.4910\n",
      "Epoch 31/50\n",
      "50000/50000 [==============================] - 12s 246us/step - loss: 0.8436 - acc: 0.7225 - val_loss: 1.4838 - val_acc: 0.4967\n",
      "Epoch 32/50\n",
      "50000/50000 [==============================] - 13s 264us/step - loss: 0.8259 - acc: 0.7307 - val_loss: 1.4820 - val_acc: 0.4992\n",
      "Epoch 33/50\n",
      "50000/50000 [==============================] - 12s 238us/step - loss: 0.8068 - acc: 0.7389 - val_loss: 1.4993 - val_acc: 0.4999\n",
      "Epoch 34/50\n",
      "50000/50000 [==============================] - 11s 224us/step - loss: 0.7855 - acc: 0.7466 - val_loss: 1.5007 - val_acc: 0.4999\n",
      "Epoch 35/50\n",
      "50000/50000 [==============================] - 11s 210us/step - loss: 0.7686 - acc: 0.7524 - val_loss: 1.5119 - val_acc: 0.4963\n",
      "Epoch 36/50\n",
      "50000/50000 [==============================] - 10s 205us/step - loss: 0.7492 - acc: 0.7623 - val_loss: 1.5223 - val_acc: 0.4933\n",
      "Epoch 37/50\n",
      "50000/50000 [==============================] - 11s 216us/step - loss: 0.7297 - acc: 0.7676 - val_loss: 1.5278 - val_acc: 0.4961\n",
      "Epoch 38/50\n",
      "50000/50000 [==============================] - 11s 212us/step - loss: 0.7114 - acc: 0.7751 - val_loss: 1.5359 - val_acc: 0.4947\n",
      "Epoch 00038: early stopping\n"
     ]
    }
   ],
   "source": [
    "# 載入 Callbacks\n",
    "from keras.callbacks import EarlyStopping\n",
    "\n",
    "earlystop = EarlyStopping(monitor=\"val_acc\",\n",
    "                          patience=10,\n",
    "                          verbose=1)\n",
    "\n",
    "results = {}\n",
    "\n",
    "#撰寫訓練流程並將結果用 dictionary 紀錄\n",
    "\n",
    "model = build_mlp(input_shape=x_train.shape[1:])\n",
    "model.summary()\n",
    "optimizer = keras.optimizers.SGD(lr=LEARNING_RATE, nesterov=True, momentum=MOMENTUM)\n",
    "model.compile(loss=\"categorical_crossentropy\", metrics=[\"accuracy\"], optimizer=optimizer)\n",
    "\n",
    "model.fit(x_train, y_train,\n",
    "          epochs=EPOCHS,\n",
    "          batch_size=BATCH_SIZE,\n",
    "          validation_data=(x_test, y_test),\n",
    "          shuffle=True,\n",
    "          callbacks=[earlystop])\n",
    "\n",
    "train_loss = model.history.history[\"loss\"]\n",
    "valid_loss = model.history.history[\"val_loss\"]\n",
    "train_acc = model.history.history[\"acc\"]\n",
    "valid_acc = model.history.history[\"val_acc\"]"
   ]
  },
  {
   "cell_type": "code",
   "execution_count": 8,
   "metadata": {},
   "outputs": [
    {
     "data": {
      "image/png": "[encoded data removed]",
      "text/plain": [
       "<Figure size 432x288 with 1 Axes>"
      ]
     },
     "metadata": {
      "needs_background": "light"
     },
     "output_type": "display_data"
    },
    {
     "data": {
      "image/png": "[encoded data removed]",
      "text/plain": [
       "<Figure size 432x288 with 1 Axes>"
      ]
     },
     "metadata": {
      "needs_background": "light"
     },
     "output_type": "display_data"
    }
   ],
   "source": [
    "import matplotlib.pyplot as plt\n",
    "%matplotlib inline\n",
    "\n",
    "plt.plot(range(len(train_loss)), train_loss, label=\"train loss\")\n",
    "plt.plot(range(len(valid_loss)), valid_loss, label=\"valid loss\")\n",
    "plt.title(\"Loss\")\n",
    "plt.legend()\n",
    "plt.show()\n",
    "\n",
    "plt.plot(range(len(train_acc)), train_acc, label=\"train accuracy\")\n",
    "plt.plot(range(len(valid_acc)), valid_acc, label=\"valid accuract\")\n",
    "plt.title(\"Accuracy\")\n",
    "plt.legend()\n",
    "plt.show()"
   ]
  },
  {
   "cell_type": "code",
   "execution_count": null,
   "metadata": {},
   "outputs": [],
   "source": []
  }
 ],
 "metadata": {
  "kernelspec": {
   "display_name": "Python 3",
   "language": "python",
   "name": "python3"
  },
  "language_info": {
   "codemirror_mode": {
    "name": "ipython",
    "version": 3
   },
   "file_extension": ".py",
   "mimetype": "text/x-python",
   "name": "python",
   "nbconvert_exporter": "python",
   "pygments_lexer": "ipython3",
   "version": "3.7.3"
  }
 },
 "nbformat": 4,
 "nbformat_minor": 2
}
