{
 "cells": [
  {
   "cell_type": "markdown",
   "metadata": {},
   "source": [
    "## Work\n",
    "1. 試比較 save_best_only 與否的差異\n",
    "2. 請僅存入將 save_weights_only 設定為 True, 並嘗試 reset ipynb 並將模型與權重重新建回並預測 x_test"
   ]
  },
  {
   "cell_type": "code",
   "execution_count": 1,
   "metadata": {},
   "outputs": [
    {
     "name": "stderr",
     "output_type": "stream",
     "text": [
      "Using TensorFlow backend.\n"
     ]
    }
   ],
   "source": [
    "import os\n",
    "import keras\n",
    "\n",
    "# Disable GPU\n",
    "os.environ[\"CUDA_VISIBLE_DEVICES\"] = \"\""
   ]
  },
  {
   "cell_type": "code",
   "execution_count": 2,
   "metadata": {},
   "outputs": [],
   "source": [
    "train, test = keras.datasets.cifar10.load_data()"
   ]
  },
  {
   "cell_type": "code",
   "execution_count": 3,
   "metadata": {},
   "outputs": [],
   "source": [
    "## 資料前處理\n",
    "def preproc_x(x, flatten=True):\n",
    "    x = x / 255.\n",
    "    if flatten:\n",
    "        x = x.reshape((len(x), -1))\n",
    "    return x\n",
    "\n",
    "def preproc_y(y, num_classes=10):\n",
    "    if y.shape[-1] == 1:\n",
    "        y = keras.utils.to_categorical(y, num_classes)\n",
    "    return y    "
   ]
  },
  {
   "cell_type": "code",
   "execution_count": 4,
   "metadata": {},
   "outputs": [],
   "source": [
    "x_train, y_train = train\n",
    "x_test, y_test = test\n",
    "\n",
    "# Preproc the inputs\n",
    "x_train = preproc_x(x_train)\n",
    "x_test = preproc_x(x_test)\n",
    "\n",
    "# Preprc the outputs\n",
    "y_train = preproc_y(y_train)\n",
    "y_test = preproc_y(y_test)"
   ]
  },
  {
   "cell_type": "code",
   "execution_count": 5,
   "metadata": {},
   "outputs": [],
   "source": [
    "from keras.layers import BatchNormalization\n",
    "\n",
    "def build_mlp(input_shape, output_units=10, num_neurons=[512, 256, 128]):\n",
    "    #建立神經網路\n",
    "    input_layer = keras.layers.Input(input_shape)\n",
    "    for i, n_units in enumerate(num_neurons):\n",
    "        if i == 0:\n",
    "            x = keras.layers.Dense(units=n_units,\n",
    "                                   activation=\"relu\", \n",
    "                                   name=\"hidden_layer\"+str(i+1))(input_layer)\n",
    "            x = BatchNormalization()(x)\n",
    "        else:\n",
    "            x = keras.layers.Dense(units=n_units,\n",
    "                                   activation=\"relu\",\n",
    "                                   name=\"hidden_layer\"+str(i+1))(x)\n",
    "            x = BatchNormalization()(x)\n",
    "    out = keras.layers.Dense(units=output_units, activation=\"softmax\", name=\"output\")(x)\n",
    "    \n",
    "    model = keras.models.Model(inputs=[input_layer], outputs=[out])\n",
    "    \n",
    "    return model"
   ]
  },
  {
   "cell_type": "code",
   "execution_count": 6,
   "metadata": {},
   "outputs": [],
   "source": [
    "#設定超參數\n",
    "LEARNING_RATE = 1e-3\n",
    "EPOCHS = 50\n",
    "BATCH_SIZE = 1024\n",
    "MOMENTUM = 0.95"
   ]
  },
  {
   "cell_type": "code",
   "execution_count": 7,
   "metadata": {},
   "outputs": [
    {
     "name": "stdout",
     "output_type": "stream",
     "text": [
      "WARNING:tensorflow:From C:\\Users\\rayhuang\\AppData\\Local\\Continuum\\anaconda3\\lib\\site-packages\\tensorflow\\python\\framework\\op_def_library.py:263: colocate_with (from tensorflow.python.framework.ops) is deprecated and will be removed in a future version.\n",
      "Instructions for updating:\n",
      "Colocations handled automatically by placer.\n",
      "_________________________________________________________________\n",
      "Layer (type)                 Output Shape              Param #   \n",
      "=================================================================\n",
      "input_1 (InputLayer)         (None, 3072)              0         \n",
      "_________________________________________________________________\n",
      "hidden_layer1 (Dense)        (None, 512)               1573376   \n",
      "_________________________________________________________________\n",
      "batch_normalization_1 (Batch (None, 512)               2048      \n",
      "_________________________________________________________________\n",
      "hidden_layer2 (Dense)        (None, 256)               131328    \n",
      "_________________________________________________________________\n",
      "batch_normalization_2 (Batch (None, 256)               1024      \n",
      "_________________________________________________________________\n",
      "hidden_layer3 (Dense)        (None, 128)               32896     \n",
      "_________________________________________________________________\n",
      "batch_normalization_3 (Batch (None, 128)               512       \n",
      "_________________________________________________________________\n",
      "output (Dense)               (None, 10)                1290      \n",
      "=================================================================\n",
      "Total params: 1,742,474\n",
      "Trainable params: 1,740,682\n",
      "Non-trainable params: 1,792\n",
      "_________________________________________________________________\n",
      "WARNING:tensorflow:From C:\\Users\\rayhuang\\AppData\\Local\\Continuum\\anaconda3\\lib\\site-packages\\tensorflow\\python\\ops\\math_ops.py:3066: to_int32 (from tensorflow.python.ops.math_ops) is deprecated and will be removed in a future version.\n",
      "Instructions for updating:\n",
      "Use tf.cast instead.\n",
      "Train on 50000 samples, validate on 10000 samples\n",
      "Epoch 1/50\n",
      "50000/50000 [==============================] - 16s 325us/step - loss: 2.2046 - acc: 0.2699 - val_loss: 2.1709 - val_acc: 0.3140\n",
      "Epoch 2/50\n",
      "50000/50000 [==============================] - 10s 207us/step - loss: 1.7491 - acc: 0.3887 - val_loss: 1.8407 - val_acc: 0.3709\n",
      "Epoch 3/50\n",
      "50000/50000 [==============================] - 10s 204us/step - loss: 1.6234 - acc: 0.4291 - val_loss: 1.7062 - val_acc: 0.4094\n",
      "Epoch 4/50\n",
      "50000/50000 [==============================] - 10s 202us/step - loss: 1.5455 - acc: 0.4567 - val_loss: 1.6464 - val_acc: 0.4213\n",
      "Epoch 5/50\n",
      "50000/50000 [==============================] - 10s 207us/step - loss: 1.4884 - acc: 0.4772 - val_loss: 1.6028 - val_acc: 0.4406\n",
      "Epoch 6/50\n",
      "50000/50000 [==============================] - 10s 202us/step - loss: 1.4415 - acc: 0.4930 - val_loss: 1.5793 - val_acc: 0.4436\n",
      "Epoch 7/50\n",
      "50000/50000 [==============================] - 10s 201us/step - loss: 1.4025 - acc: 0.5087 - val_loss: 1.5559 - val_acc: 0.4532\n",
      "Epoch 8/50\n",
      "50000/50000 [==============================] - 10s 202us/step - loss: 1.3654 - acc: 0.5217 - val_loss: 1.5373 - val_acc: 0.4602\n",
      "Epoch 9/50\n",
      "50000/50000 [==============================] - 10s 205us/step - loss: 1.3332 - acc: 0.5346 - val_loss: 1.5293 - val_acc: 0.4637\n",
      "Epoch 10/50\n",
      "50000/50000 [==============================] - 10s 204us/step - loss: 1.3030 - acc: 0.5444 - val_loss: 1.5143 - val_acc: 0.4651\n",
      "Epoch 11/50\n",
      "50000/50000 [==============================] - 10s 208us/step - loss: 1.2753 - acc: 0.5558 - val_loss: 1.5032 - val_acc: 0.4677\n",
      "Epoch 12/50\n",
      "50000/50000 [==============================] - 10s 207us/step - loss: 1.2463 - acc: 0.5667 - val_loss: 1.4972 - val_acc: 0.4741\n",
      "Epoch 13/50\n",
      "50000/50000 [==============================] - 10s 202us/step - loss: 1.2201 - acc: 0.5769 - val_loss: 1.4904 - val_acc: 0.4716\n",
      "Epoch 14/50\n",
      "50000/50000 [==============================] - 11s 212us/step - loss: 1.1960 - acc: 0.5833 - val_loss: 1.4736 - val_acc: 0.4803\n",
      "Epoch 15/50\n",
      "50000/50000 [==============================] - 10s 200us/step - loss: 1.1722 - acc: 0.5932 - val_loss: 1.4803 - val_acc: 0.4819\n",
      "Epoch 16/50\n",
      "50000/50000 [==============================] - 10s 197us/step - loss: 1.1477 - acc: 0.6039 - val_loss: 1.4796 - val_acc: 0.4825\n",
      "Epoch 17/50\n",
      "50000/50000 [==============================] - 10s 195us/step - loss: 1.1235 - acc: 0.6126 - val_loss: 1.4702 - val_acc: 0.4860\n",
      "Epoch 18/50\n",
      "50000/50000 [==============================] - 10s 195us/step - loss: 1.0999 - acc: 0.6203 - val_loss: 1.4694 - val_acc: 0.4802\n",
      "Epoch 19/50\n",
      "50000/50000 [==============================] - 10s 196us/step - loss: 1.0792 - acc: 0.6297 - val_loss: 1.4651 - val_acc: 0.4841\n",
      "Epoch 20/50\n",
      "50000/50000 [==============================] - 10s 203us/step - loss: 1.0557 - acc: 0.6385 - val_loss: 1.4719 - val_acc: 0.4834\n",
      "Epoch 21/50\n",
      "50000/50000 [==============================] - 10s 198us/step - loss: 1.0344 - acc: 0.6456 - val_loss: 1.4643 - val_acc: 0.4859\n",
      "Epoch 22/50\n",
      "50000/50000 [==============================] - 10s 202us/step - loss: 1.0138 - acc: 0.6552 - val_loss: 1.4745 - val_acc: 0.4929\n",
      "Epoch 23/50\n",
      "50000/50000 [==============================] - 10s 199us/step - loss: 0.9931 - acc: 0.6640 - val_loss: 1.4728 - val_acc: 0.4852\n",
      "Epoch 24/50\n",
      "50000/50000 [==============================] - 10s 206us/step - loss: 0.9713 - acc: 0.6732 - val_loss: 1.4766 - val_acc: 0.4878\n",
      "Epoch 25/50\n",
      "50000/50000 [==============================] - 11s 225us/step - loss: 0.9487 - acc: 0.6833 - val_loss: 1.4664 - val_acc: 0.4916\n",
      "Epoch 26/50\n",
      "50000/50000 [==============================] - 12s 239us/step - loss: 0.9283 - acc: 0.6913 - val_loss: 1.4749 - val_acc: 0.4876\n",
      "Epoch 27/50\n",
      "50000/50000 [==============================] - 11s 220us/step - loss: 0.9082 - acc: 0.6992 - val_loss: 1.4818 - val_acc: 0.4908\n",
      "Epoch 28/50\n",
      "50000/50000 [==============================] - 12s 236us/step - loss: 0.8887 - acc: 0.7057 - val_loss: 1.4835 - val_acc: 0.4884\n",
      "Epoch 29/50\n",
      "50000/50000 [==============================] - 10s 204us/step - loss: 0.8689 - acc: 0.7140 - val_loss: 1.4918 - val_acc: 0.4865\n",
      "Epoch 30/50\n",
      "50000/50000 [==============================] - 10s 206us/step - loss: 0.8478 - acc: 0.7233 - val_loss: 1.4873 - val_acc: 0.4937\n",
      "Epoch 31/50\n",
      "50000/50000 [==============================] - 11s 219us/step - loss: 0.8294 - acc: 0.7283 - val_loss: 1.4952 - val_acc: 0.4955\n",
      "Epoch 32/50\n",
      "50000/50000 [==============================] - 12s 230us/step - loss: 0.8097 - acc: 0.7381 - val_loss: 1.5041 - val_acc: 0.4902\n",
      "Epoch 33/50\n",
      "50000/50000 [==============================] - 11s 214us/step - loss: 0.7899 - acc: 0.7447 - val_loss: 1.5125 - val_acc: 0.4932\n",
      "Epoch 34/50\n",
      "50000/50000 [==============================] - 11s 211us/step - loss: 0.7715 - acc: 0.7534 - val_loss: 1.5149 - val_acc: 0.4903\n",
      "Epoch 35/50\n",
      "50000/50000 [==============================] - 11s 229us/step - loss: 0.7515 - acc: 0.7600 - val_loss: 1.5402 - val_acc: 0.4887\n",
      "Epoch 36/50\n",
      "50000/50000 [==============================] - 11s 214us/step - loss: 0.7306 - acc: 0.7693 - val_loss: 1.5234 - val_acc: 0.4949\n",
      "Epoch 37/50\n",
      "50000/50000 [==============================] - 11s 218us/step - loss: 0.7151 - acc: 0.7751 - val_loss: 1.5436 - val_acc: 0.4884\n",
      "Epoch 38/50\n",
      "50000/50000 [==============================] - 10s 196us/step - loss: 0.6952 - acc: 0.7821 - val_loss: 1.5537 - val_acc: 0.4865\n",
      "Epoch 39/50\n",
      "50000/50000 [==============================] - 10s 200us/step - loss: 0.6769 - acc: 0.7893 - val_loss: 1.5547 - val_acc: 0.4912\n",
      "Epoch 40/50\n",
      "50000/50000 [==============================] - 10s 196us/step - loss: 0.6599 - acc: 0.7962 - val_loss: 1.5608 - val_acc: 0.4857\n",
      "Epoch 41/50\n",
      "50000/50000 [==============================] - 10s 197us/step - loss: 0.6416 - acc: 0.8043 - val_loss: 1.5946 - val_acc: 0.4884\n",
      "Epoch 42/50\n",
      "50000/50000 [==============================] - 10s 197us/step - loss: 0.6243 - acc: 0.8112 - val_loss: 1.5856 - val_acc: 0.4864\n",
      "Epoch 43/50\n",
      "50000/50000 [==============================] - 10s 200us/step - loss: 0.6053 - acc: 0.8194 - val_loss: 1.6010 - val_acc: 0.4842\n",
      "Epoch 44/50\n",
      "50000/50000 [==============================] - 10s 197us/step - loss: 0.5883 - acc: 0.8246 - val_loss: 1.6066 - val_acc: 0.4820\n"
     ]
    },
    {
     "name": "stdout",
     "output_type": "stream",
     "text": [
      "Epoch 45/50\n",
      "50000/50000 [==============================] - 10s 193us/step - loss: 0.5743 - acc: 0.8308 - val_loss: 1.6147 - val_acc: 0.4866\n",
      "Epoch 46/50\n",
      "50000/50000 [==============================] - 10s 194us/step - loss: 0.5560 - acc: 0.8368 - val_loss: 1.6212 - val_acc: 0.4891\n",
      "Epoch 47/50\n",
      "50000/50000 [==============================] - 10s 200us/step - loss: 0.5382 - acc: 0.8460 - val_loss: 1.6569 - val_acc: 0.4871\n",
      "Epoch 48/50\n",
      "50000/50000 [==============================] - 10s 198us/step - loss: 0.5217 - acc: 0.8519 - val_loss: 1.6306 - val_acc: 0.4913\n",
      "Epoch 49/50\n",
      "50000/50000 [==============================] - 10s 200us/step - loss: 0.5054 - acc: 0.8585 - val_loss: 1.6592 - val_acc: 0.4905\n",
      "Epoch 50/50\n",
      "50000/50000 [==============================] - 10s 196us/step - loss: 0.4894 - acc: 0.8645 - val_loss: 1.6722 - val_acc: 0.4817\n",
      "10000/10000 [==============================] - 2s 166us/step\n"
     ]
    }
   ],
   "source": [
    "# 載入 Callbacks\n",
    "#設定 callbacks: model checkpoint\n",
    "from keras.callbacks import ModelCheckpoint\n",
    "\n",
    "model_ckpt = ModelCheckpoint(filepath=\"./tmp.h5\",\n",
    "                             monitor=\"val_loss\",\n",
    "                             save_best_only=True)\n",
    "\n",
    "results = {}\n",
    "\n",
    "#撰寫訓練流程並將結果用 dictionary 紀錄\n",
    "model = build_mlp(input_shape=x_train.shape[1:])\n",
    "model.summary()\n",
    "optimizer = keras.optimizers.SGD(lr=LEARNING_RATE, nesterov=True, momentum=MOMENTUM)\n",
    "model.compile(loss=\"categorical_crossentropy\", metrics=[\"accuracy\"], optimizer=optimizer)\n",
    "\n",
    "model.fit(x_train, y_train,\n",
    "          epochs=EPOCHS,\n",
    "          batch_size=BATCH_SIZE,\n",
    "          validation_data=(x_test, y_test),\n",
    "          shuffle=True,\n",
    "          callbacks=[model_ckpt])\n",
    "\n",
    "train_loss = model.history.history[\"loss\"]\n",
    "valid_loss = model.history.history[\"val_loss\"]\n",
    "train_acc = model.history.history[\"acc\"]\n",
    "valid_acc = model.history.history[\"val_acc\"]\n",
    "\n",
    "results['train_loss'] = train_loss\n",
    "results['valid_loss']= valid_loss \n",
    "results['train_acc']= train_acc \n",
    "results['valid_acc']= valid_acc \n",
    "\n",
    "# Load back\n",
    "model = keras.models.load_model(\"./tmp.h5\")\n",
    "loss_loadback, acc_loadback = model.evaluate(x_test, y_test)\n"
   ]
  },
  {
   "cell_type": "code",
   "execution_count": 8,
   "metadata": {
    "scrolled": true
   },
   "outputs": [
    {
     "data": {
      "image/png": "[encoded data removed]",
      "text/plain": [
       "<Figure size 432x288 with 1 Axes>"
      ]
     },
     "metadata": {
      "needs_background": "light"
     },
     "output_type": "display_data"
    },
    {
     "data": {
      "image/png": "[encoded data removed]",
      "text/plain": [
       "<Figure size 432x288 with 1 Axes>"
      ]
     },
     "metadata": {
      "needs_background": "light"
     },
     "output_type": "display_data"
    }
   ],
   "source": [
    "import matplotlib.pyplot as plt\n",
    "%matplotlib inline\n",
    "\n",
    "plt.plot(range(len(train_loss)), train_loss, label=\"train loss\")\n",
    "plt.plot(range(len(valid_loss)), valid_loss, label=\"valid loss\")\n",
    "plt.hlines(y=loss_loadback, xmin=0, xmax=len(train_loss), colors='r', linestyles='--')\n",
    "plt.legend()\n",
    "plt.title(\"Loss\")\n",
    "plt.show()\n",
    "\n",
    "plt.plot(range(len(train_acc)), train_acc, label=\"train accuracy\")\n",
    "plt.plot(range(len(valid_acc)), valid_acc, label=\"valid accuracy\")\n",
    "plt.hlines(y=acc_loadback, xmin=0, xmax=len(train_loss), colors='r', linestyles='--')\n",
    "plt.legend()\n",
    "plt.title(\"Accuracy\")\n",
    "plt.show()"
   ]
  },
  {
   "cell_type": "code",
   "execution_count": 10,
   "metadata": {},
   "outputs": [
    {
     "name": "stdout",
     "output_type": "stream",
     "text": [
      "10000/10000 [==============================] - 2s 185us/step\n"
     ]
    }
   ],
   "source": [
    "model = keras.models.load_model(\"./tmp.h5\")\n",
    "loss_loadback, acc_loadback = model.evaluate(x_test, y_test)"
   ]
  },
  {
   "cell_type": "code",
   "execution_count": 11,
   "metadata": {},
   "outputs": [],
   "source": [
    "#嘗試 reset ipynb 並將模型與權重重新建回並預測 x_test\n",
    "import os\n",
    "import keras\n",
    "\n",
    "# Disable GPU\n",
    "os.environ[\"CUDA_VISIBLE_DEVICES\"] = \"\""
   ]
  },
  {
   "cell_type": "code",
   "execution_count": 12,
   "metadata": {},
   "outputs": [],
   "source": [
    "train, test = keras.datasets.cifar10.load_data()"
   ]
  },
  {
   "cell_type": "code",
   "execution_count": 13,
   "metadata": {},
   "outputs": [],
   "source": [
    "## 資料前處理\n",
    "def preproc_x(x, flatten=True):\n",
    "    x = x / 255.\n",
    "    if flatten:\n",
    "        x = x.reshape((len(x), -1))\n",
    "    return x\n",
    "\n",
    "def preproc_y(y, num_classes=10):\n",
    "    if y.shape[-1] == 1:\n",
    "        y = keras.utils.to_categorical(y, num_classes)\n",
    "    return y"
   ]
  },
  {
   "cell_type": "code",
   "execution_count": 14,
   "metadata": {},
   "outputs": [],
   "source": [
    "x_train, y_train = train\n",
    "x_test, y_test = test\n",
    "\n",
    "# Preproc the inputs\n",
    "x_train = preproc_x(x_train)\n",
    "x_test = preproc_x(x_test)\n",
    "\n",
    "# Preprc the outputs\n",
    "y_train = preproc_y(y_train)\n",
    "y_test = preproc_y(y_test)"
   ]
  },
  {
   "cell_type": "code",
   "execution_count": 15,
   "metadata": {},
   "outputs": [
    {
     "name": "stdout",
     "output_type": "stream",
     "text": [
      "10000/10000 [==============================] - 2s 208us/step\n"
     ]
    }
   ],
   "source": [
    "#Load back\n",
    "model = keras.models.load_model(\"./tmp.h5\")\n",
    "loss_loadback, acc_loadback = model.evaluate(x_test, y_test)"
   ]
  },
  {
   "cell_type": "code",
   "execution_count": 16,
   "metadata": {},
   "outputs": [
    {
     "data": {
      "text/plain": [
       "1.464340920639038"
      ]
     },
     "execution_count": 16,
     "metadata": {},
     "output_type": "execute_result"
    }
   ],
   "source": [
    "loss_loadback"
   ]
  },
  {
   "cell_type": "code",
   "execution_count": 17,
   "metadata": {},
   "outputs": [
    {
     "data": {
      "text/plain": [
       "0.4859"
      ]
     },
     "execution_count": 17,
     "metadata": {},
     "output_type": "execute_result"
    }
   ],
   "source": [
    "acc_loadback"
   ]
  },
  {
   "cell_type": "code",
   "execution_count": null,
   "metadata": {},
   "outputs": [],
   "source": []
  }
 ],
 "metadata": {
  "kernelspec": {
   "display_name": "Python 3",
   "language": "python",
   "name": "python3"
  },
  "language_info": {
   "codemirror_mode": {
    "name": "ipython",
    "version": 3
   },
   "file_extension": ".py",
   "mimetype": "text/x-python",
   "name": "python",
   "nbconvert_exporter": "python",
   "pygments_lexer": "ipython3",
   "version": "3.7.3"
  }
 },
 "nbformat": 4,
 "nbformat_minor": 2
}
